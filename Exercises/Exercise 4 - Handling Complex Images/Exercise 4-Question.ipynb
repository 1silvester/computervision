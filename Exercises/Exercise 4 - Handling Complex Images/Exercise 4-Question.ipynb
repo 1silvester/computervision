{
  "nbformat": 4,
  "nbformat_minor": 0,
  "metadata": {
    "colab": {
      "name": "Exercise 4-Question.ipynb",
      "provenance": [],
      "toc_visible": true
    },
    "kernelspec": {
      "display_name": "Python 3",
      "name": "python3"
    }
  },
  "cells": [
    {
      "cell_type": "code",
      "metadata": {
        "id": "zX4Kg8DUTKWO"
      },
      "source": [
        "#@title Licensed under the Apache License, Version 2.0 (the \"License\");\n",
        "# you may not use this file except in compliance with the License.\n",
        "# You may obtain a copy of the License at\n",
        "#\n",
        "# https://www.apache.org/licenses/LICENSE-2.0\n",
        "#\n",
        "# Unless required by applicable law or agreed to in writing, software\n",
        "# distributed under the License is distributed on an \"AS IS\" BASIS,\n",
        "# WITHOUT WARRANTIES OR CONDITIONS OF ANY KIND, either express or implied.\n",
        "# See the License for the specific language governing permissions and\n",
        "# limitations under the License."
      ],
      "execution_count": 1,
      "outputs": []
    },
    {
      "cell_type": "markdown",
      "metadata": {
        "id": "UncprnB0ymAE"
      },
      "source": [
        "Below is code with a link to a happy or sad dataset which contains 80 images, 40 happy and 40 sad. \n",
        "Create a convolutional neural network that trains to 100% accuracy on these images,  which cancels training upon hitting training accuracy of >.999\n",
        "\n",
        "Hint -- it will work best with 3 convolutional layers."
      ]
    },
    {
      "cell_type": "code",
      "metadata": {
        "colab": {
          "base_uri": "https://localhost:8080/"
        },
        "id": "7Vti6p3PxmpS",
        "outputId": "fd6ecc8b-a651-4138-b0f0-503442c84947"
      },
      "source": [
        "import tensorflow as tf\n",
        "import os\n",
        "import zipfile\n",
        "\n",
        "\n",
        "DESIRED_ACCURACY = 0.999\n",
        "\n",
        "!wget --no-check-certificate \\\n",
        "    \"https://storage.googleapis.com/laurencemoroney-blog.appspot.com/happy-or-sad.zip\" \\\n",
        "    -O \"/tmp/happy-or-sad.zip\"\n",
        "\n",
        "zip_ref = zipfile.ZipFile(\"/tmp/happy-or-sad.zip\", 'r')\n",
        "zip_ref.extractall(\"/tmp/h-or-s\")\n",
        "zip_ref.close()\n",
        "\n",
        "class myCallback(tf.keras.callbacks.Callback):\n",
        "  def on_epoch_end(self, epoch, logs={}):\n",
        "    if(logs.get('accuracy') is not None and logs.get('accuracy') > DESIRED_ACCURACY):\n",
        "      print(\"Reached 99.9% accuracy so cancelling training!\")\n",
        "      self.model.stop_training = True\n",
        "\n",
        "  # Your Code\n",
        "\n",
        "callbacks = myCallback()"
      ],
      "execution_count": 21,
      "outputs": [
        {
          "output_type": "stream",
          "text": [
            "--2021-07-06 17:10:07--  https://storage.googleapis.com/laurencemoroney-blog.appspot.com/happy-or-sad.zip\n",
            "Resolving storage.googleapis.com (storage.googleapis.com)... 74.125.137.128, 142.250.101.128, 142.251.2.128, ...\n",
            "Connecting to storage.googleapis.com (storage.googleapis.com)|74.125.137.128|:443... connected.\n",
            "HTTP request sent, awaiting response... 200 OK\n",
            "Length: 2670333 (2.5M) [application/zip]\n",
            "Saving to: ‘/tmp/happy-or-sad.zip’\n",
            "\n",
            "\r/tmp/happy-or-sad.z   0%[                    ]       0  --.-KB/s               \r/tmp/happy-or-sad.z 100%[===================>]   2.55M  --.-KB/s    in 0.01s   \n",
            "\n",
            "2021-07-06 17:10:07 (185 MB/s) - ‘/tmp/happy-or-sad.zip’ saved [2670333/2670333]\n",
            "\n"
          ],
          "name": "stdout"
        }
      ]
    },
    {
      "cell_type": "code",
      "metadata": {
        "id": "6DLGbXXI1j_V"
      },
      "source": [
        "# This Code Block should Define and Compile the Model\n",
        "model = tf.keras.models.Sequential([\n",
        "        tf.keras.layers.Conv2D(16, (3,3), activation='relu', input_shape=(150,150,3)),\n",
        "        tf.keras.layers.MaxPooling2D(2,2),\n",
        "        tf.keras.layers.Conv2D(32, (3,3), activation='relu'),\n",
        "        tf.keras.layers.MaxPooling2D(2,2),\n",
        "        tf.keras.layers.Conv2D(32,(3,3), activation='relu'),\n",
        "        tf.keras.layers.Flatten(),\n",
        "        tf.keras.layers.Dense(512, activation='relu'),\n",
        "        tf.keras.layers.Dense(1, activation='sigmoid')\n",
        "])\n",
        "\n",
        "from tensorflow.keras.optimizers import RMSprop\n",
        "\n",
        "model.compile( optimizer=RMSprop(learning_rate=0.001),\n",
        "        loss='binary_crossentropy',\n",
        "        metrics=['accuracy'])"
      ],
      "execution_count": 22,
      "outputs": []
    },
    {
      "cell_type": "code",
      "metadata": {
        "colab": {
          "base_uri": "https://localhost:8080/"
        },
        "id": "4Ap9fUJE1vVu",
        "outputId": "76aa9107-2c51-4a57-901e-38977e81318c"
      },
      "source": [
        "# This code block should create an instance of an ImageDataGenerator called train_datagen \n",
        "# And a train_generator by calling train_datagen.flow_from_directory\n",
        "\n",
        "from tensorflow.keras.preprocessing.image import ImageDataGenerator\n",
        "\n",
        "train_datagen = ImageDataGenerator(rescale=1.0/255.0)\n",
        "\n",
        "train_generator = train_datagen.flow_from_directory(\n",
        "        # Your Code Here\n",
        "        '/tmp/h-or-s',\n",
        "        target_size=(150,150),\n",
        "        batch_size=10,\n",
        "        class_mode='binary'\n",
        "        )\n",
        "\n",
        "# Expected output: 'Found 80 images belonging to 2 classes'"
      ],
      "execution_count": 23,
      "outputs": [
        {
          "output_type": "stream",
          "text": [
            "Found 80 images belonging to 2 classes.\n"
          ],
          "name": "stdout"
        }
      ]
    },
    {
      "cell_type": "code",
      "metadata": {
        "colab": {
          "base_uri": "https://localhost:8080/"
        },
        "id": "48dLm13U1-Le",
        "outputId": "105d6d29-ed78-492f-fab6-87a39c21ccb4"
      },
      "source": [
        "# This code block should call model.fit and train for\n",
        "# a number of epochs. \n",
        "history = model.fit(\n",
        "      # Your Code Here\n",
        "       train_generator,\n",
        "        steps_per_epoch=8,\n",
        "        epochs=15,\n",
        "        verbose=1,\n",
        "        callbacks=[callbacks],\n",
        "        \n",
        "      )\n",
        "    \n",
        "# Expected output: \"Reached 99.9% accuracy so cancelling training!\"\""
      ],
      "execution_count": 24,
      "outputs": [
        {
          "output_type": "stream",
          "text": [
            "Epoch 1/15\n",
            "8/8 [==============================] - 3s 332ms/step - loss: 1.2934 - accuracy: 0.6250\n",
            "Epoch 2/15\n",
            "8/8 [==============================] - 3s 319ms/step - loss: 0.9332 - accuracy: 0.8000\n",
            "Epoch 3/15\n",
            "8/8 [==============================] - 3s 318ms/step - loss: 0.2390 - accuracy: 0.9375\n",
            "Epoch 4/15\n",
            "8/8 [==============================] - 3s 324ms/step - loss: 0.4065 - accuracy: 0.8000\n",
            "Epoch 5/15\n",
            "8/8 [==============================] - 3s 324ms/step - loss: 0.1787 - accuracy: 0.9375\n",
            "Epoch 6/15\n",
            "8/8 [==============================] - 3s 324ms/step - loss: 0.1303 - accuracy: 0.9625\n",
            "Epoch 7/15\n",
            "8/8 [==============================] - 3s 325ms/step - loss: 0.1639 - accuracy: 0.9250\n",
            "Epoch 8/15\n",
            "8/8 [==============================] - 3s 319ms/step - loss: 0.2877 - accuracy: 0.9250\n",
            "Epoch 9/15\n",
            "8/8 [==============================] - 3s 325ms/step - loss: 0.1907 - accuracy: 0.9000\n",
            "Epoch 10/15\n",
            "8/8 [==============================] - 3s 320ms/step - loss: 0.0779 - accuracy: 0.9375\n",
            "Epoch 11/15\n",
            "8/8 [==============================] - 3s 326ms/step - loss: 0.1382 - accuracy: 0.9625\n",
            "Epoch 12/15\n",
            "8/8 [==============================] - 3s 328ms/step - loss: 0.0686 - accuracy: 0.9500\n",
            "Epoch 13/15\n",
            "8/8 [==============================] - 3s 329ms/step - loss: 0.0467 - accuracy: 0.9750\n",
            "Epoch 14/15\n",
            "8/8 [==============================] - 3s 326ms/step - loss: 0.0054 - accuracy: 1.0000\n",
            "Reached 99.9% accuracy so cancelling training!\n"
          ],
          "name": "stdout"
        }
      ]
    }
  ]
}